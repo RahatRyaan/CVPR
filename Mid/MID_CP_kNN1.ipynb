{
 "cells": [
  {
   "cell_type": "code",
   "execution_count": 33,
   "id": "902d6546",
   "metadata": {},
   "outputs": [
    {
     "ename": "SyntaxError",
     "evalue": "(unicode error) 'unicodeescape' codec can't decode bytes in position 2-3: truncated \\UXXXXXXXX escape (2968382053.py, line 7)",
     "output_type": "error",
     "traceback": [
      "\u001b[1;36m  Cell \u001b[1;32mIn[33], line 7\u001b[1;36m\u001b[0m\n\u001b[1;33m    train_dir = 'C:\\Users\\Albatross\\Downloads\\a\\CIFAR-10-images-master'\u001b[0m\n\u001b[1;37m                                                                       ^\u001b[0m\n\u001b[1;31mSyntaxError\u001b[0m\u001b[1;31m:\u001b[0m (unicode error) 'unicodeescape' codec can't decode bytes in position 2-3: truncated \\UXXXXXXXX escape\n"
     ]
    }
   ],
   "source": [
    "import cv2\n",
    "from PIL import Image\n",
    "import matplotlib.pyplot as plt\n",
    "import os\n",
    "\n",
    "# Define the path to the directory containing the training images\n",
    "train_dir = 'C:\\Users\\Albatross\\Downloads\\a\\CIFAR-10-images-master'\n",
    "\n",
    "\n",
    "\n",
    "for filename in os.listdir(train_dir):\n",
    "    if any(filename.lower().endswith(ext) for ext in image_extensions):\n",
    "        # Read the image\n",
    "        img = Image.open(os.path.join(train_dir, filename))\n",
    "\n",
    "        # Convert the image to grayscale\n",
    "        img = cv2.cvtColor(cv2.imread(os.path.join(train_dir, filename), cv2.IMREAD_COLOR), cv2.COLOR_BGR2GRAY)\n",
    "\n",
    "    # Show the grayscale image\n",
    "    plt.imshow(img, cmap='gray')\n",
    "    plt.axis('off')\n",
    "    plt.show()\n"
   ]
  },
  {
   "cell_type": "code",
   "execution_count": 22,
   "id": "22abd337",
   "metadata": {},
   "outputs": [
    {
     "ename": "NameError",
     "evalue": "name 'CATEGORIES' is not defined",
     "output_type": "error",
     "traceback": [
      "\u001b[1;31m---------------------------------------------------------------------------\u001b[0m",
      "\u001b[1;31mNameError\u001b[0m                                 Traceback (most recent call last)",
      "Cell \u001b[1;32mIn[22], line 12\u001b[0m\n\u001b[0;32m      7\u001b[0m train_dir \u001b[38;5;241m=\u001b[39m \u001b[38;5;124m'\u001b[39m\u001b[38;5;124mC:/Users/Albatross/Desktop/Thesis/Melanoma_cancer_detection/train\u001b[39m\u001b[38;5;124m'\u001b[39m\n\u001b[0;32m      9\u001b[0m \u001b[38;5;66;03m# Supported image file extensions\u001b[39;00m\n\u001b[0;32m     10\u001b[0m \u001b[38;5;66;03m#image_extensions = ['.jpg', '.jpeg', '.png', '.bmp', '.gif', '.tiff']\u001b[39;00m\n\u001b[1;32m---> 12\u001b[0m \u001b[38;5;28;01mfor\u001b[39;00m c \u001b[38;5;129;01min\u001b[39;00m \u001b[43mCATEGORIES\u001b[49m:\n\u001b[0;32m     13\u001b[0m     path \u001b[38;5;241m=\u001b[39m os\u001b[38;5;241m.\u001b[39mpath\u001b[38;5;241m.\u001b[39mjoin(TRAIN_DIR,c)\n\u001b[0;32m     14\u001b[0m     class_num \u001b[38;5;241m=\u001b[39m CATEGORIES\u001b[38;5;241m.\u001b[39mindex(c)\n",
      "\u001b[1;31mNameError\u001b[0m: name 'CATEGORIES' is not defined"
     ]
    }
   ],
   "source": [
    "import cv2\n",
    "from PIL import Image\n",
    "import matplotlib.pyplot as plt\n",
    "import os\n",
    "\n",
    "# Define the path to the directory containing the training images\n",
    "train_dir = 'C:/Users/Albatross/Desktop/Thesis/Melanoma_cancer_detection/train'\n",
    "\n",
    "# Supported image file extensions\n",
    "#image_extensions = ['.jpg', '.jpeg', '.png', '.bmp', '.gif', '.tiff']\n",
    "\n",
    "for c in CATEGORIES:\n",
    "    path = os.path.join(TRAIN_DIR,c)\n",
    "    class_num = CATEGORIES.index(c)\n",
    "    if any(filename.lower().endswith(ext) for ext in image_extensions):\n",
    "        # Read the image\n",
    "        img = Image.open(os.path.join(train_dir, filename))\n",
    "\n",
    "        # Convert the image to grayscale\n",
    "        img = cv2.cvtColor(cv2.imread(os.path.join(train_dir, filename), cv2.IMREAD_COLOR), cv2.COLOR_BGR2GRAY)\n",
    "\n",
    "    # Show the grayscale image\n",
    "    plt.imshow(img, cmap='gray')\n",
    "    plt.axis('off')\n",
    "    plt.show()"
   ]
  },
  {
   "cell_type": "code",
   "execution_count": null,
   "id": "0f9538be",
   "metadata": {},
   "outputs": [],
   "source": [
    "for c in CATEGORIES:\n",
    "    path = os.path.join(TRAIN_DIR,c)\n",
    "    class_num = CATEGORIES.index(c)\n",
    "    if any(filename.lower().endswith(ext) for ext in image_extensions):\n",
    "        # Read the image\n",
    "        img = Image.open(os.path.join(train_dir, filename))\n",
    "\n",
    "        # Convert the image to grayscale\n",
    "        img = cv2.cvtColor(cv2.imread(os.path.join(train_dir, filename), cv2.IMREAD_COLOR), cv2.COLOR_BGR2GRAY)\n",
    "\n",
    "    # Show the grayscale image\n",
    "    plt.imshow(img, cmap='gray')\n",
    "    plt.axis('off')\n",
    "    plt.show()\n"
   ]
  },
  {
   "cell_type": "code",
   "execution_count": null,
   "id": "d83dce20",
   "metadata": {},
   "outputs": [],
   "source": [
    "import cv2\n",
    "from PIL import Image\n",
    "import matplotlib.pyplot as plt\n",
    "import os\n",
    "\n",
    "# Define the path to the directory containing the training images\n",
    "train_dir = 'C:\\Users\\Rahat\\Downloads\\a\\CIFAR-10-images-master\\train\\airplane'\n",
    "\n",
    "\n",
    "\n",
    "for filename in os.listdir(train_dir):\n",
    "    if any(filename.lower().endswith(ext) for ext in image_extensions):\n",
    "        # Read the image\n",
    "        img = Image.open(os.path.join(train_dir, filename))\n",
    "\n",
    "        # Convert the image to grayscale\n",
    "        img = cv2.cvtColor(cv2.imread(os.path.join(train_dir, filename), cv2.IMREAD_COLOR), cv2.COLOR_BGR2GRAY)\n",
    "\n",
    "    # Show the grayscale image\n",
    "    plt.imshow(img, cmap='gray')\n",
    "    plt.axis('off')\n",
    "    plt.show()\n"
   ]
  },
  {
   "cell_type": "code",
   "execution_count": null,
   "id": "ca427740",
   "metadata": {},
   "outputs": [],
   "source": []
  },
  {
   "cell_type": "code",
   "execution_count": null,
   "id": "0db59b9b",
   "metadata": {},
   "outputs": [],
   "source": []
  },
  {
   "cell_type": "code",
   "execution_count": null,
   "id": "6d9bf0a4",
   "metadata": {},
   "outputs": [],
   "source": []
  }
 ],
 "metadata": {
  "kernelspec": {
   "display_name": "Python 3 (ipykernel)",
   "language": "python",
   "name": "python3"
  },
  "language_info": {
   "codemirror_mode": {
    "name": "ipython",
    "version": 3
   },
   "file_extension": ".py",
   "mimetype": "text/x-python",
   "name": "python",
   "nbconvert_exporter": "python",
   "pygments_lexer": "ipython3",
   "version": "3.10.9"
  }
 },
 "nbformat": 4,
 "nbformat_minor": 5
}
