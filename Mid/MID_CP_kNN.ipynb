import cv2
from PIL import Image
import matplotlib.pyplot as plt
import os

# Define the path to the directory containing the training images
train_dir = 'C:\Users\Rahat\Downloads\a\CIFAR-10-images-master\train\airplane'



for filename in os.listdir(train_dir):
    if any(filename.lower().endswith(ext) for ext in image_extensions):
        # Read the image
        img = Image.open(os.path.join(train_dir, filename))

        # Convert the image to grayscale
        img = cv2.cvtColor(cv2.imread(os.path.join(train_dir, filename), cv2.IMREAD_COLOR), cv2.COLOR_BGR2GRAY)

    # Show the grayscale image
    plt.imshow(img, cmap='gray')
    plt.axis('off')
    plt.show()
